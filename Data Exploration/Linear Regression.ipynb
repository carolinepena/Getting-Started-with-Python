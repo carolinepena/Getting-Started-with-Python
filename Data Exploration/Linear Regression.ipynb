{
 "cells": [
  {
   "cell_type": "markdown",
   "id": "bca3c0c0",
   "metadata": {
    "papermill": {
     "duration": 0.003326,
     "end_time": "2025-09-03T15:01:18.297122",
     "exception": false,
     "start_time": "2025-09-03T15:01:18.293796",
     "status": "completed"
    },
    "tags": []
   },
   "source": [
    "<p>This file aims to deepen the data analysis of the Uber dataset, focusing on the exploration of charts and relationships between variables in a visual manner. It will build upon the work done in Part 1, reusing functions and transformations to ensure efficiency and consistency in the analysis.</p>\n",
    "\n",
    "<p>Part 3 is dedicated to learning linear regression. Using the Uber dataset from 2024, we will build and validate a regression model to forecast the monthly (or annual) number of Uber rides for 2025.</p>\n",
    "\n",
    "Link to Part 1 File: [Uber Data Analysis - Part 1](https://www.kaggle.com/code/annecarolinepena/uber-dataset-part-1-exploratory-data-analysis)\n",
    "<br />\n",
    "Link to Part 2 File: [Uber Data Analysis - Part 2](https://www.kaggle.com/code/annecarolinepena/uber-dataset-part-2-exploratory-data-analysis)"
   ]
  },
  {
   "cell_type": "code",
   "execution_count": 1,
   "id": "9ee1b4db",
   "metadata": {
    "_cell_guid": "b1076dfc-b9ad-4769-8c92-a6c4dae69d19",
    "_uuid": "8f2839f25d086af736a60e9eeb907d3b93b6e0e5",
    "execution": {
     "iopub.execute_input": "2025-09-03T15:01:18.306199Z",
     "iopub.status.busy": "2025-09-03T15:01:18.305859Z",
     "iopub.status.idle": "2025-09-03T15:01:22.552437Z",
     "shell.execute_reply": "2025-09-03T15:01:22.550934Z"
    },
    "papermill": {
     "duration": 4.253817,
     "end_time": "2025-09-03T15:01:22.554451",
     "exception": false,
     "start_time": "2025-09-03T15:01:18.300634",
     "status": "completed"
    },
    "tags": []
   },
   "outputs": [
    {
     "name": "stdout",
     "output_type": "stream",
     "text": [
      "Setup Complete\n"
     ]
    }
   ],
   "source": [
    "# Setting up the environment\n",
    "import numpy as np\n",
    "import pandas as pd\n",
    "import matplotlib.pyplot as plt\n",
    "import seaborn as sns\n",
    "import warnings\n",
    "from datetime import datetime\n",
    "\n",
    "print(\"Setup Complete\")\n",
    "\n",
    "warnings.filterwarnings(\"ignore\") # ignore all warnings"
   ]
  },
  {
   "cell_type": "code",
   "execution_count": 2,
   "id": "1e17cdd3",
   "metadata": {
    "execution": {
     "iopub.execute_input": "2025-09-03T15:01:22.562447Z",
     "iopub.status.busy": "2025-09-03T15:01:22.562008Z",
     "iopub.status.idle": "2025-09-03T15:01:23.794173Z",
     "shell.execute_reply": "2025-09-03T15:01:23.793170Z"
    },
    "papermill": {
     "duration": 1.23828,
     "end_time": "2025-09-03T15:01:23.795892",
     "exception": false,
     "start_time": "2025-09-03T15:01:22.557612",
     "status": "completed"
    },
    "tags": []
   },
   "outputs": [
    {
     "data": {
      "text/html": [
       "<div>\n",
       "<style scoped>\n",
       "    .dataframe tbody tr th:only-of-type {\n",
       "        vertical-align: middle;\n",
       "    }\n",
       "\n",
       "    .dataframe tbody tr th {\n",
       "        vertical-align: top;\n",
       "    }\n",
       "\n",
       "    .dataframe thead th {\n",
       "        text-align: right;\n",
       "    }\n",
       "</style>\n",
       "<table border=\"1\" class=\"dataframe\">\n",
       "  <thead>\n",
       "    <tr style=\"text-align: right;\">\n",
       "      <th></th>\n",
       "      <th>Date</th>\n",
       "      <th>Time</th>\n",
       "      <th>Booking ID</th>\n",
       "      <th>Booking Status</th>\n",
       "      <th>Customer ID</th>\n",
       "      <th>Vehicle Type</th>\n",
       "      <th>Pickup Location</th>\n",
       "      <th>Drop Location</th>\n",
       "      <th>Avg VTAT</th>\n",
       "      <th>Avg CTAT</th>\n",
       "      <th>...</th>\n",
       "      <th>Booking Value</th>\n",
       "      <th>Ride Distance</th>\n",
       "      <th>Driver Ratings</th>\n",
       "      <th>Customer Rating</th>\n",
       "      <th>Payment Method</th>\n",
       "      <th>day_week</th>\n",
       "      <th>day_week_name</th>\n",
       "      <th>hour</th>\n",
       "      <th>Group of Reasons</th>\n",
       "      <th>Cancelled by</th>\n",
       "    </tr>\n",
       "  </thead>\n",
       "  <tbody>\n",
       "    <tr>\n",
       "      <th>0</th>\n",
       "      <td>2024-03-23</td>\n",
       "      <td>2025-08-31 12:29:38</td>\n",
       "      <td>\"CNR5884300\"</td>\n",
       "      <td>No Driver Found</td>\n",
       "      <td>\"CID1982111\"</td>\n",
       "      <td>eBike</td>\n",
       "      <td>Palam Vihar</td>\n",
       "      <td>Jhilmil</td>\n",
       "      <td>0.0</td>\n",
       "      <td>0.0</td>\n",
       "      <td>...</td>\n",
       "      <td>0</td>\n",
       "      <td>0.00</td>\n",
       "      <td>0.0</td>\n",
       "      <td>0.0</td>\n",
       "      <td>NaN</td>\n",
       "      <td>5</td>\n",
       "      <td>Saturday</td>\n",
       "      <td>12</td>\n",
       "      <td>Unknown</td>\n",
       "      <td>NaN</td>\n",
       "    </tr>\n",
       "    <tr>\n",
       "      <th>1</th>\n",
       "      <td>2024-11-29</td>\n",
       "      <td>2025-08-31 18:01:39</td>\n",
       "      <td>\"CNR1326809\"</td>\n",
       "      <td>Incomplete</td>\n",
       "      <td>\"CID4604802\"</td>\n",
       "      <td>Go Sedan</td>\n",
       "      <td>Shastri Nagar</td>\n",
       "      <td>Gurgaon Sector 56</td>\n",
       "      <td>4.9</td>\n",
       "      <td>14.0</td>\n",
       "      <td>...</td>\n",
       "      <td>237</td>\n",
       "      <td>5.73</td>\n",
       "      <td>0.0</td>\n",
       "      <td>0.0</td>\n",
       "      <td>UPI</td>\n",
       "      <td>4</td>\n",
       "      <td>Friday</td>\n",
       "      <td>18</td>\n",
       "      <td>Unknown</td>\n",
       "      <td>NaN</td>\n",
       "    </tr>\n",
       "    <tr>\n",
       "      <th>2</th>\n",
       "      <td>2024-08-23</td>\n",
       "      <td>2025-08-31 08:56:10</td>\n",
       "      <td>\"CNR8494506\"</td>\n",
       "      <td>Completed</td>\n",
       "      <td>\"CID9202816\"</td>\n",
       "      <td>Auto</td>\n",
       "      <td>Khandsa</td>\n",
       "      <td>Malviya Nagar</td>\n",
       "      <td>13.4</td>\n",
       "      <td>25.8</td>\n",
       "      <td>...</td>\n",
       "      <td>627</td>\n",
       "      <td>13.58</td>\n",
       "      <td>4.9</td>\n",
       "      <td>4.9</td>\n",
       "      <td>Debit Card</td>\n",
       "      <td>4</td>\n",
       "      <td>Friday</td>\n",
       "      <td>8</td>\n",
       "      <td>Unknown</td>\n",
       "      <td>NaN</td>\n",
       "    </tr>\n",
       "    <tr>\n",
       "      <th>3</th>\n",
       "      <td>2024-10-21</td>\n",
       "      <td>2025-08-31 17:17:25</td>\n",
       "      <td>\"CNR8906825\"</td>\n",
       "      <td>Completed</td>\n",
       "      <td>\"CID2610914\"</td>\n",
       "      <td>Premier Sedan</td>\n",
       "      <td>Central Secretariat</td>\n",
       "      <td>Inderlok</td>\n",
       "      <td>13.1</td>\n",
       "      <td>28.5</td>\n",
       "      <td>...</td>\n",
       "      <td>416</td>\n",
       "      <td>34.02</td>\n",
       "      <td>4.6</td>\n",
       "      <td>5.0</td>\n",
       "      <td>UPI</td>\n",
       "      <td>0</td>\n",
       "      <td>Monday</td>\n",
       "      <td>17</td>\n",
       "      <td>Unknown</td>\n",
       "      <td>NaN</td>\n",
       "    </tr>\n",
       "    <tr>\n",
       "      <th>4</th>\n",
       "      <td>2024-09-16</td>\n",
       "      <td>2025-08-31 22:08:00</td>\n",
       "      <td>\"CNR1950162\"</td>\n",
       "      <td>Completed</td>\n",
       "      <td>\"CID9933542\"</td>\n",
       "      <td>Bike</td>\n",
       "      <td>Ghitorni Village</td>\n",
       "      <td>Khan Market</td>\n",
       "      <td>5.3</td>\n",
       "      <td>19.6</td>\n",
       "      <td>...</td>\n",
       "      <td>737</td>\n",
       "      <td>48.21</td>\n",
       "      <td>4.1</td>\n",
       "      <td>4.3</td>\n",
       "      <td>UPI</td>\n",
       "      <td>0</td>\n",
       "      <td>Monday</td>\n",
       "      <td>22</td>\n",
       "      <td>Unknown</td>\n",
       "      <td>NaN</td>\n",
       "    </tr>\n",
       "  </tbody>\n",
       "</table>\n",
       "<p>5 rows × 26 columns</p>\n",
       "</div>"
      ],
      "text/plain": [
       "         Date                 Time    Booking ID   Booking Status  \\\n",
       "0  2024-03-23  2025-08-31 12:29:38  \"CNR5884300\"  No Driver Found   \n",
       "1  2024-11-29  2025-08-31 18:01:39  \"CNR1326809\"       Incomplete   \n",
       "2  2024-08-23  2025-08-31 08:56:10  \"CNR8494506\"        Completed   \n",
       "3  2024-10-21  2025-08-31 17:17:25  \"CNR8906825\"        Completed   \n",
       "4  2024-09-16  2025-08-31 22:08:00  \"CNR1950162\"        Completed   \n",
       "\n",
       "    Customer ID   Vehicle Type      Pickup Location      Drop Location  \\\n",
       "0  \"CID1982111\"          eBike          Palam Vihar            Jhilmil   \n",
       "1  \"CID4604802\"       Go Sedan        Shastri Nagar  Gurgaon Sector 56   \n",
       "2  \"CID9202816\"           Auto              Khandsa      Malviya Nagar   \n",
       "3  \"CID2610914\"  Premier Sedan  Central Secretariat           Inderlok   \n",
       "4  \"CID9933542\"           Bike     Ghitorni Village        Khan Market   \n",
       "\n",
       "   Avg VTAT  Avg CTAT  ...  Booking Value Ride Distance  Driver Ratings  \\\n",
       "0       0.0       0.0  ...              0          0.00             0.0   \n",
       "1       4.9      14.0  ...            237          5.73             0.0   \n",
       "2      13.4      25.8  ...            627         13.58             4.9   \n",
       "3      13.1      28.5  ...            416         34.02             4.6   \n",
       "4       5.3      19.6  ...            737         48.21             4.1   \n",
       "\n",
       "  Customer Rating  Payment Method day_week  day_week_name  hour  \\\n",
       "0             0.0             NaN        5       Saturday    12   \n",
       "1             0.0             UPI        4         Friday    18   \n",
       "2             4.9      Debit Card        4         Friday     8   \n",
       "3             5.0             UPI        0         Monday    17   \n",
       "4             4.3             UPI        0         Monday    22   \n",
       "\n",
       "   Group of Reasons  Cancelled by  \n",
       "0           Unknown           NaN  \n",
       "1           Unknown           NaN  \n",
       "2           Unknown           NaN  \n",
       "3           Unknown           NaN  \n",
       "4           Unknown           NaN  \n",
       "\n",
       "[5 rows x 26 columns]"
      ]
     },
     "execution_count": 2,
     "metadata": {},
     "output_type": "execute_result"
    }
   ],
   "source": [
    "# Load the Dataset\n",
    "filepath =  \"../input/uber-dataset/ncr_ride_bookings_eda.csv\"\n",
    "uber_data = pd.read_csv(filepath)\n",
    "uber_data.head(5)"
   ]
  },
  {
   "cell_type": "markdown",
   "id": "b1a5b852",
   "metadata": {
    "papermill": {
     "duration": 0.003016,
     "end_time": "2025-09-03T15:01:23.802411",
     "exception": false,
     "start_time": "2025-09-03T15:01:23.799395",
     "status": "completed"
    },
    "tags": []
   },
   "source": [
    "<h1>What is Linear Regression?</h1>\n",
    "\n",
    "<p>\n",
    "Linear regression models the relationship between a target variable <strong>y</strong> and one or more predictors like  <strong>x1</strong>, <strong>x2</strong>, ...<strong>xn</strong> assuming a linear form. In our case, <strong>y</strong> could be the <strong>number of rides</strong> and the predictors could be <strong>prices</strong>, <strong>month</strong>, <strong>hour</strong>.  \n",
    "</p>\n",
    "\n",
    "<p>The purpose of linear regression can be: </p>\n",
    "<ul>\n",
    "    <li>explanatory: to understand effects</li>\n",
    "    <li>predictive: to forecast future values</li>\n",
    "</ul>\n",
    "<p>The central assumption is that, after suitable transformations, the conditional mean of y, y can be expressed as a linear combination of predictors.</p>\n",
    "\n",
    "<h3>Why this model is important?</h3>\n",
    "\n",
    "<ul>\n",
    "    <li>With this model is easy to explain the effect of each variable</li>\n",
    "    <li>Used as baseline model for complex models</li>\n",
    "    <li>Common used in forecasting, relationship estimation and policy effect estimation</li>\n",
    "</ul>\n",
    "\n",
    "<h3>Main Assumptions</h3>\n",
    "\n",
    "<p>Classical Linear Regression (OLS) relies on several assumptions about the data and the errors. These assumptions ensure desirable properties of estimators and valid hypothesis testing and confidence intervals.</p>\n",
    "\n",
    "<table>\n",
    "  <tr>\n",
    "    <th>Assumptions</th>\n",
    "    <th>What it means</th>\n",
    "    <th>How to spot troubles</th>\n",
    "  </tr>\n",
    "  <tr>\n",
    "    <td>Linearity</td>\n",
    "    <td>Relationship is roughly a straight line.</td>\n",
    "    <td>Residuals vs fitted shows curved pattern.</td>       \n",
    "  </tr>\n",
    "  <tr>\n",
    "    <td>Exogeneity</td>\n",
    "    <td>No important omitted variable that affects both X and y.</td>\n",
    "    <td>Coefficients change a lot when adding controls; suspicion of bias.</td>\n",
    "  </tr>\n",
    "  <tr>\n",
    "    <td>Homoscedasticity</td>\n",
    "    <td>Error \"size\" is about the same across X.</td>\n",
    "    <td>Residual spread increases/decreases with fitted values (funnel).</td>\n",
    "  </tr>\n",
    "  <tr>\n",
    "    <td>Independence of errors</td>\n",
    "    <td>Errors not correlated across observations (important for time series).</td>\n",
    "    <td>Residuals show temporal pattern (autocorrelation).</td>\n",
    "  </tr>\n",
    "</table>\n",
    "\n",
    "<h3>Evaluation metrics</h3>\n",
    "\n",
    "<p><strong>MAE (Mean Absolute Error)</strong> is the average of the absolute values of the errors. It gives the average \"size\" of the error (ignores sign). It is easy to interpret: \"on average, I was off by X units.\" Prefer MAE when you want a more direct and robust measure, less affected by outliers, and easy to understand.</p>\n",
    "\n",
    "<p><strong>RMSE (Root Mean Squared Error)</strong> is the square root of the mean of the squared errors. RMSE penalizes large errors more strongly (because of the squaring). Prefer RMSE when you want to heavily penalize large errors (for example, when large mistakes are especially costly) or when you optimize models that minimize squared error. </p>\n"
   ]
  },
  {
   "cell_type": "code",
   "execution_count": 3,
   "id": "35cb0b18",
   "metadata": {
    "execution": {
     "iopub.execute_input": "2025-09-03T15:01:23.810291Z",
     "iopub.status.busy": "2025-09-03T15:01:23.809958Z",
     "iopub.status.idle": "2025-09-03T15:01:24.416901Z",
     "shell.execute_reply": "2025-09-03T15:01:24.416007Z"
    },
    "papermill": {
     "duration": 0.612828,
     "end_time": "2025-09-03T15:01:24.418789",
     "exception": false,
     "start_time": "2025-09-03T15:01:23.805961",
     "status": "completed"
    },
    "tags": []
   },
   "outputs": [],
   "source": [
    "from sklearn.linear_model import LinearRegression"
   ]
  },
  {
   "cell_type": "code",
   "execution_count": 4,
   "id": "d16f45f5",
   "metadata": {
    "execution": {
     "iopub.execute_input": "2025-09-03T15:01:24.426458Z",
     "iopub.status.busy": "2025-09-03T15:01:24.426009Z",
     "iopub.status.idle": "2025-09-03T15:01:24.502291Z",
     "shell.execute_reply": "2025-09-03T15:01:24.501240Z"
    },
    "papermill": {
     "duration": 0.081521,
     "end_time": "2025-09-03T15:01:24.503745",
     "exception": false,
     "start_time": "2025-09-03T15:01:24.422224",
     "status": "completed"
    },
    "tags": []
   },
   "outputs": [
    {
     "name": "stdout",
     "output_type": "stream",
     "text": [
      "         Date  Booking ID\n",
      "0  2024-01-01       12861\n",
      "1  2024-02-01       11927\n",
      "2  2024-03-01       12719\n",
      "3  2024-04-01       12199\n",
      "4  2024-05-01       12778\n",
      "5  2024-06-01       12440\n",
      "6  2024-07-01       12897\n",
      "7  2024-08-01       12636\n",
      "8  2024-09-01       12248\n",
      "9  2024-10-01       12651\n",
      "10 2024-11-01       12394\n",
      "11 2024-12-01       12250\n"
     ]
    }
   ],
   "source": [
    "# Groupping the number of rides per month\n",
    "uber_data['Date'] = pd.to_datetime(uber_data['Date'], errors='coerce')\n",
    "if uber_data['Date'].dt.day.nunique() > 1:\n",
    "    uber_data = uber_data.groupby(uber_data['Date'].dt.to_period('M')).agg({'Booking ID':'count'}).reset_index()\n",
    "    uber_data['Date'] = uber_data['Date'].dt.to_timestamp()\n",
    "else:\n",
    "    uber_data['Date'] = uber_data['Date'].dt.to_period('M').dt.to_timestamp()\n",
    "print(uber_data)\n",
    "uber_data = uber_data.sort_values('Date').reset_index(drop=True)"
   ]
  },
  {
   "cell_type": "code",
   "execution_count": 5,
   "id": "7173de8f",
   "metadata": {
    "execution": {
     "iopub.execute_input": "2025-09-03T15:01:24.511481Z",
     "iopub.status.busy": "2025-09-03T15:01:24.510897Z",
     "iopub.status.idle": "2025-09-03T15:01:24.519503Z",
     "shell.execute_reply": "2025-09-03T15:01:24.518485Z"
    },
    "papermill": {
     "duration": 0.014176,
     "end_time": "2025-09-03T15:01:24.521095",
     "exception": false,
     "start_time": "2025-09-03T15:01:24.506919",
     "status": "completed"
    },
    "tags": []
   },
   "outputs": [
    {
     "data": {
      "text/plain": [
       "array([13, 14, 15, 16, 17, 18, 19, 20, 21, 22, 23, 24])"
      ]
     },
     "execution_count": 5,
     "metadata": {},
     "output_type": "execute_result"
    }
   ],
   "source": [
    "uber_data['index'] = np.arange(1, len(uber_data) + 1) # Create an index to help in the regression\n",
    "n_forecast = 12 # Defining the period to be predict\n",
    "last_index = uber_data['index'].iloc[-1]\n",
    "future_index = np.arange(last_index + 1, last_index + 1 + n_forecast)\n",
    "future_index # index create for the 2025 months"
   ]
  },
  {
   "cell_type": "code",
   "execution_count": 6,
   "id": "ed63c7b7",
   "metadata": {
    "execution": {
     "iopub.execute_input": "2025-09-03T15:01:24.529266Z",
     "iopub.status.busy": "2025-09-03T15:01:24.528756Z",
     "iopub.status.idle": "2025-09-03T15:01:24.538455Z",
     "shell.execute_reply": "2025-09-03T15:01:24.537520Z"
    },
    "papermill": {
     "duration": 0.015545,
     "end_time": "2025-09-03T15:01:24.540083",
     "exception": false,
     "start_time": "2025-09-03T15:01:24.524538",
     "status": "completed"
    },
    "tags": []
   },
   "outputs": [
    {
     "data": {
      "text/plain": [
       "DatetimeIndex(['2025-01-01', '2025-02-01', '2025-03-01', '2025-04-01',\n",
       "               '2025-05-01', '2025-06-01', '2025-07-01', '2025-08-01',\n",
       "               '2025-09-01', '2025-10-01', '2025-11-01', '2025-12-01'],\n",
       "              dtype='datetime64[ns]', freq='MS')"
      ]
     },
     "execution_count": 6,
     "metadata": {},
     "output_type": "execute_result"
    }
   ],
   "source": [
    "last_date = uber_data['Date'].iloc[-1]\n",
    "future_dates = pd.date_range(start = last_date + pd.offsets.MonthBegin(1), periods=n_forecast, freq='MS')\n",
    "future_dates"
   ]
  },
  {
   "cell_type": "code",
   "execution_count": 7,
   "id": "421127f0",
   "metadata": {
    "execution": {
     "iopub.execute_input": "2025-09-03T15:01:24.547939Z",
     "iopub.status.busy": "2025-09-03T15:01:24.547660Z",
     "iopub.status.idle": "2025-09-03T15:01:24.576747Z",
     "shell.execute_reply": "2025-09-03T15:01:24.575435Z"
    },
    "papermill": {
     "duration": 0.034812,
     "end_time": "2025-09-03T15:01:24.578259",
     "exception": false,
     "start_time": "2025-09-03T15:01:24.543447",
     "status": "completed"
    },
    "tags": []
   },
   "outputs": [
    {
     "data": {
      "text/plain": [
       "array([12438.22727273, 12428.72377622, 12419.22027972, 12409.71678322,\n",
       "       12400.21328671, 12390.70979021, 12381.20629371, 12371.7027972 ,\n",
       "       12362.1993007 , 12352.6958042 , 12343.19230769, 12333.68881119])"
      ]
     },
     "execution_count": 7,
     "metadata": {},
     "output_type": "execute_result"
    }
   ],
   "source": [
    "X = uber_data[['index']].values # extract index values and convert to NumPy Array\n",
    "y = uber_data['Booking ID'].values # extract Booking ID values and convert to NumPy Array\n",
    "\n",
    "lr = LinearRegression()\n",
    "lr.fit(X, y)\n",
    "lin_pred = lr.predict(future_index.reshape(-1, 1))\n",
    "lin_pred"
   ]
  },
  {
   "cell_type": "code",
   "execution_count": 8,
   "id": "d761f397",
   "metadata": {
    "execution": {
     "iopub.execute_input": "2025-09-03T15:01:24.586941Z",
     "iopub.status.busy": "2025-09-03T15:01:24.585800Z",
     "iopub.status.idle": "2025-09-03T15:01:25.189496Z",
     "shell.execute_reply": "2025-09-03T15:01:25.188447Z"
    },
    "papermill": {
     "duration": 0.610336,
     "end_time": "2025-09-03T15:01:25.191947",
     "exception": false,
     "start_time": "2025-09-03T15:01:24.581611",
     "status": "completed"
    },
    "tags": []
   },
   "outputs": [
    {
     "data": {
      "image/png": "[encoded data removed]",
      "text/plain": [
       "<Figure size 1000x500 with 1 Axes>"
      ]
     },
     "metadata": {},
     "output_type": "display_data"
    }
   ],
   "source": [
    "plt.figure(figsize=(10, 5))\n",
    "plt.plot(uber_data['Date'], uber_data['Booking ID'], 'o-', label='Dados 2024')  # Dados reais\n",
    "plt.plot(future_dates, lin_pred, 's--', label='Regressão Linear')  \n",
    "\n",
    "plt.xlabel('Month')\n",
    "plt.ylabel('Rides')\n",
    "plt.title('Forecast Rides for 2025')\n",
    "plt.legend()\n",
    "plt.grid(True)\n",
    "plt.tight_layout()\n",
    "\n",
    "plt.savefig('uber_2025_forecasts.png')\n",
    "plt.show()"
   ]
  },
  {
   "cell_type": "code",
   "execution_count": 9,
   "id": "f5837352",
   "metadata": {
    "execution": {
     "iopub.execute_input": "2025-09-03T15:01:25.203245Z",
     "iopub.status.busy": "2025-09-03T15:01:25.202906Z",
     "iopub.status.idle": "2025-09-03T15:01:25.207706Z",
     "shell.execute_reply": "2025-09-03T15:01:25.206669Z"
    },
    "papermill": {
     "duration": 0.012062,
     "end_time": "2025-09-03T15:01:25.209737",
     "exception": false,
     "start_time": "2025-09-03T15:01:25.197675",
     "status": "completed"
    },
    "tags": []
   },
   "outputs": [],
   "source": [
    "from sklearn.metrics import mean_absolute_error, mean_squared_error, r2_score"
   ]
  },
  {
   "cell_type": "code",
   "execution_count": 10,
   "id": "f0829308",
   "metadata": {
    "execution": {
     "iopub.execute_input": "2025-09-03T15:01:25.222406Z",
     "iopub.status.busy": "2025-09-03T15:01:25.222076Z",
     "iopub.status.idle": "2025-09-03T15:01:25.233653Z",
     "shell.execute_reply": "2025-09-03T15:01:25.232458Z"
    },
    "papermill": {
     "duration": 0.019838,
     "end_time": "2025-09-03T15:01:25.235372",
     "exception": false,
     "start_time": "2025-09-03T15:01:25.215534",
     "status": "completed"
    },
    "tags": []
   },
   "outputs": [
    {
     "name": "stdout",
     "output_type": "stream",
     "text": [
      "MAE: 265.7634, RMSE: 310.5631, R2: -0.1411\n"
     ]
    }
   ],
   "source": [
    "y_true = uber_data['Booking ID'] \n",
    "y_pred = lin_pred\n",
    "\n",
    "mae = mean_absolute_error(y_true, y_pred)\n",
    "rmse = mean_squared_error(y_true, y_pred, squared=False)\n",
    "r2 = r2_score(y_true, y_pred)\n",
    "print(f\"MAE: {mae:.4f}, RMSE: {rmse:.4f}, R2: {r2:.4f}\")"
   ]
  },
  {
   "cell_type": "markdown",
   "id": "ba46bf23",
   "metadata": {
    "papermill": {
     "duration": 0.00393,
     "end_time": "2025-09-03T15:01:25.245479",
     "exception": false,
     "start_time": "2025-09-03T15:01:25.241549",
     "status": "completed"
    },
    "tags": []
   },
   "source": [
    "<p>As observed in the graph, the ride data for 2024 shows significant oscillations throughout the year, which may be influenced by factors such as economic changes, weather conditions, seasonal events, and other external factors. To predict the data for 2025, a very basic linear regression model was used, and it can be seen that the projections show a continuous decline in ride numbers throughout 2025. This happens because the regression model was based solely on historical ride data from 2024 and the indices of the months to be forecasted for 2025, without considering external variables that could significantly influence ride numbers.</p>\n",
    "<p>In addition to observing the predictions, evaluation metrics for the model were calculated:</p>\n",
    "<ul>\n",
    "<li>MAE (Mean Absolute Error): 265.7634 — indicates that, on average, the predictions deviate from the actual values by approximately 266 rides. </li>\n",
    "<li>RMSE (Root Mean Square Error): 310.5631 — shows a larger error when squared deviations are considered, highlighting the model's inability to capture significant variations in the data. </li>\n",
    "<li>R² (Coefficient of Determination): -0.1411 — a negative result indicates that the model fails to explain the data's variability adequately, performing worse than a simple mean. </li>\n",
    "</ul>\n",
    "<p>These results confirm that the basic linear regression used is not effective in handling the oscillations seen in the 2024 data, nor in accurately predicting the 2025 data.</p>"
   ]
  }
 ],
 "metadata": {
  "kaggle": {
   "accelerator": "none",
   "dataSources": [
    {
     "datasetId": 8191351,
     "sourceId": 12944004,
     "sourceType": "datasetVersion"
    }
   ],
   "dockerImageVersionId": 31089,
   "isGpuEnabled": false,
   "isInternetEnabled": true,
   "language": "python",
   "sourceType": "notebook"
  },
  "kernelspec": {
   "display_name": "Python 3",
   "language": "python",
   "name": "python3"
  },
  "language_info": {
   "codemirror_mode": {
    "name": "ipython",
    "version": 3
   },
   "file_extension": ".py",
   "mimetype": "text/x-python",
   "name": "python",
   "nbconvert_exporter": "python",
   "pygments_lexer": "ipython3",
   "version": "3.11.13"
  },
  "papermill": {
   "default_parameters": {},
   "duration": 13.848999,
   "end_time": "2025-09-03T15:01:25.974225",
   "environment_variables": {},
   "exception": null,
   "input_path": "__notebook__.ipynb",
   "output_path": "__notebook__.ipynb",
   "parameters": {},
   "start_time": "2025-09-03T15:01:12.125226",
   "version": "2.6.0"
  }
 },
 "nbformat": 4,
 "nbformat_minor": 5
}
